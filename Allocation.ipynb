{
 "cells": [
  {
   "cell_type": "code",
   "execution_count": 244,
   "metadata": {},
   "outputs": [],
   "source": [
    "import pandas as pd\n",
    "import numpy as np\n",
    "import re\n",
    "from multiprocessing import Pool\n",
    "import functools\n",
    "\n",
    "data_path = 'Data/'"
   ]
  },
  {
   "cell_type": "markdown",
   "metadata": {},
   "source": [
    "### Loading in test data\n",
    "load data\n",
    "organise info\n",
    "clean up columns"
   ]
  },
  {
   "cell_type": "code",
   "execution_count": 282,
   "metadata": {},
   "outputs": [],
   "source": [
    "choices = pd.read_csv(data_path + 'responses_so_far.csv')"
   ]
  },
  {
   "cell_type": "code",
   "execution_count": 283,
   "metadata": {},
   "outputs": [],
   "source": [
    "agenda = [re.findall(r'\\[([^\\]]+)', col) for col in choices.columns[2:]]"
   ]
  },
  {
   "cell_type": "code",
   "execution_count": 284,
   "metadata": {},
   "outputs": [
    {
     "data": {
      "text/plain": [
       "'i'"
      ]
     },
     "execution_count": 284,
     "metadata": {},
     "output_type": "execute_result"
    }
   ],
   "source": [
    "regex = re.compile(\".*?\\((.*?)\\)\")\n",
    "re.sub(\"[\\(\\[].*?[\\)\\]]\", \"\", co[1].split('[')[0].strip())"
   ]
  },
  {
   "cell_type": "code",
   "execution_count": 285,
   "metadata": {},
   "outputs": [],
   "source": [
    "new_cols = ['timestamp','name'] + [re.sub(\"[\\(\\[].*?[\\)\\]]\", \"\", co[1].split('[')[0].strip()).strip().replace(' ', '_') for co in agenda]"
   ]
  },
  {
   "cell_type": "code",
   "execution_count": 286,
   "metadata": {},
   "outputs": [],
   "source": [
    "choices.columns = new_cols"
   ]
  },
  {
   "cell_type": "code",
   "execution_count": 287,
   "metadata": {},
   "outputs": [],
   "source": [
    "schedule = [(co[0].replace(' ', '_'), re.sub(\"[\\(\\[].*?[\\)\\]]\", \"\", co[1].split('[')[0].strip()).strip().replace(' ', '_')) for co in agenda]"
   ]
  },
  {
   "cell_type": "code",
   "execution_count": 288,
   "metadata": {},
   "outputs": [],
   "source": [
    "schedule_dict = {}\n",
    "for pair in schedule:\n",
    "    if pair[0] not in schedule_dict.keys():\n",
    "        schedule_dict[pair[0]] = []\n",
    "    schedule_dict[pair[0]].append(pair[1])"
   ]
  },
  {
   "cell_type": "code",
   "execution_count": 289,
   "metadata": {},
   "outputs": [],
   "source": [
    "company_avai_dict = {re.sub(\"[\\(\\[].*?[\\)\\]]\", \"\", co[1].split('[')[0].strip()).strip().replace(' ', '_'):int(co[1].split('[')[1]) for co in agenda}"
   ]
  },
  {
   "cell_type": "markdown",
   "metadata": {},
   "source": [
    "### Random allocation"
   ]
  },
  {
   "cell_type": "markdown",
   "metadata": {},
   "source": [
    "Create dictionary that matches time slots to choices"
   ]
  },
  {
   "cell_type": "code",
   "execution_count": 290,
   "metadata": {},
   "outputs": [],
   "source": [
    "choices = choices.drop(['timestamp'], axis = 1)"
   ]
  },
  {
   "cell_type": "markdown",
   "metadata": {},
   "source": [
    "Trying out allocation"
   ]
  },
  {
   "cell_type": "code",
   "execution_count": 291,
   "metadata": {},
   "outputs": [],
   "source": [
    "# dropping NA\n",
    "choices = choices[~choices.name.isnull()].reset_index(drop = True)"
   ]
  },
  {
   "cell_type": "code",
   "execution_count": 292,
   "metadata": {},
   "outputs": [],
   "source": [
    "def prize_draw(co, level, pool):\n",
    "    limit = company_avai_dict[co]\n",
    "    total_picks = sum(choices[co] == level)\n",
    "    if total_picks > limit:\n",
    "        return(list(np.random.choice(pool, limit, replace=False)))\n",
    "    else:\n",
    "        return(pool)"
   ]
  },
  {
   "cell_type": "code",
   "execution_count": 293,
   "metadata": {},
   "outputs": [
    {
     "name": "stdout",
     "output_type": "stream",
     "text": [
      "all spots allocated for  Google_Deepmind\n",
      "all spots allocated for  Blockchain\n",
      "all spots allocated for  Pierre_Richemond\n",
      "all spots allocated for  Stéphane_Leroy\n",
      "all spots allocated for  King.com\n",
      "all spots allocated for  BNP_Paribas_Data_Analytics\n",
      "all spots allocated for  Circle\n",
      "all spots allocated for  Google_Deepmind\n",
      "all spots allocated for  Pierre_Richemond\n",
      "all spots allocated for  Stéphane_Leroy\n",
      "all spots allocated for  King.com\n",
      "all spots allocated for  BNP_Paribas_Data_Analytics\n",
      "all spots allocated for  Circle\n",
      "all spots allocated for  Google_Deepmind\n",
      "all spots allocated for  Stéphane_Leroy\n",
      "all spots allocated for  King.com\n",
      "all spots allocated for  BNP_Paribas_Data_Analytics\n",
      "all spots allocated for  Circle\n",
      "all spots allocated for  Google_Deepmind\n",
      "all spots allocated for  King.com\n",
      "all spots allocated for  BNP_Paribas_Data_Analytics\n",
      "all spots allocated for  Circle\n",
      "all spots allocated for  Google_Deepmind\n",
      "all spots allocated for  BNP_Paribas_Data_Analytics\n",
      "all spots allocated for  Circle\n"
     ]
    }
   ],
   "source": [
    "prize_draw_dict = {}\n",
    "for slot, companies in schedule_dict.items():\n",
    "    pool = list(choices.name)\n",
    "    for co in schedule_dict['WEDNESDAY_LUNCH']:\n",
    "        prize_draw_dict[co] = []\n",
    "        for level in sorted(list(set(choices[co]))):\n",
    "            winners = prize_draw(co, level, pool)\n",
    "            company_avai_dict[co] = company_avai_dict[co] - len(winners)\n",
    "            prize_draw_dict[co].extend(winners)\n",
    "            pool = [company for company in pool if company not in winners]\n",
    "            if company_avai_dict[co] == 0 or len(pool) == 0:\n",
    "                print('all spots allocated for ', co)\n",
    "                break"
   ]
  },
  {
   "cell_type": "code",
   "execution_count": null,
   "metadata": {},
   "outputs": [],
   "source": []
  }
 ],
 "metadata": {
  "kernelspec": {
   "display_name": "Python 3",
   "language": "python",
   "name": "python3"
  },
  "language_info": {
   "codemirror_mode": {
    "name": "ipython",
    "version": 3
   },
   "file_extension": ".py",
   "mimetype": "text/x-python",
   "name": "python",
   "nbconvert_exporter": "python",
   "pygments_lexer": "ipython3",
   "version": "3.6.4"
  }
 },
 "nbformat": 4,
 "nbformat_minor": 2
}
