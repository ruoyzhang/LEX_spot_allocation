{
 "cells": [
  {
   "cell_type": "code",
   "execution_count": 15,
   "metadata": {},
   "outputs": [],
   "source": [
    "import pandas as pd\n",
    "import numpy as np\n",
    "import re\n",
    "\n",
    "\n",
    "\n",
    "data_path = 'Data/'"
   ]
  },
  {
   "cell_type": "markdown",
   "metadata": {},
   "source": [
    "### Loading in test data and clean up columns"
   ]
  },
  {
   "cell_type": "code",
   "execution_count": 114,
   "metadata": {},
   "outputs": [],
   "source": [
    "choices = pd.read_csv(data_path + 'responses_so_far.csv')"
   ]
  },
  {
   "cell_type": "code",
   "execution_count": 115,
   "metadata": {},
   "outputs": [
    {
     "data": {
      "text/plain": [
       "['timestamp',\n",
       " 'name',\n",
       " 'TUESDAY_AFTERNOON_Neuroprofiler_Fintech_',\n",
       " 'TUESDAY_AFTERNOON_Regnosys_Regtech_',\n",
       " 'TUESDAY_AFTERNOON_AQR_Hedge_Fund_',\n",
       " 'WEDNESDAY_LUNCH_Google_Deepmind_',\n",
       " 'WEDNESDAY_LUNCH_Blockchain_',\n",
       " 'WEDNESDAY_LUNCH_Pierre_Richemond_',\n",
       " 'WEDNESDAY_LUNCH_St_phane_Leroy_',\n",
       " 'WEDNESDAY_LUNCH_King_com_',\n",
       " 'WEDNESDAY_LUNCH_BNP_Paribas_Data_Analytics_',\n",
       " 'WEDNESDAY_LUNCH_Circle_',\n",
       " 'WEDNESDAY_AFTERNOON_Vodafone_Lab_',\n",
       " 'WEDNESDAY_AFTERNOON_PwC_',\n",
       " 'WEDNESDAY_AFTERNOON_YOOBIC_',\n",
       " 'THURSDAY_MORNING_CapGemini_',\n",
       " 'THURSDAY_MORNING_McLauren_Applied_Technologies_',\n",
       " 'THURSDAY_AFTERNOON_Zopa_',\n",
       " 'THURSDAY_AFTERNOON_Founders_Factory_']"
      ]
     },
     "execution_count": 115,
     "metadata": {},
     "output_type": "execute_result"
    }
   ],
   "source": [
    "new_cols = [re.sub('[^a-zA-Z]+' , '_','_'.join(re.findall(r'\\[([^\\]]+)', col))) for col in choices.columns[2:]]\n",
    "new_cols = ['timestamp','name'] + ['_'.join([col.split('_')[0]] + ['AFTERNOON'] + col.split('_')[1:]) if col.split('_')[1] in ['Vodafone', 'PwC', 'YOOBIC'] else col for col in new_cols]\n",
    "new_cols"
   ]
  },
  {
   "cell_type": "code",
   "execution_count": 116,
   "metadata": {},
   "outputs": [],
   "source": [
    "choices.columns = new_cols"
   ]
  },
  {
   "cell_type": "markdown",
   "metadata": {},
   "source": [
    "Create dictionary that matches time slots to choices"
   ]
  },
  {
   "cell_type": "code",
   "execution_count": 117,
   "metadata": {},
   "outputs": [],
   "source": [
    "unique_slots = sorted(list(set((['_'.join(slot.split('_')[:2]) for slot in new_cols[2:]]))))"
   ]
  },
  {
   "cell_type": "code",
   "execution_count": 118,
   "metadata": {},
   "outputs": [
    {
     "data": {
      "text/plain": [
       "['THURSDAY_AFTERNOON',\n",
       " 'THURSDAY_MORNING',\n",
       " 'TUESDAY_AFTERNOON',\n",
       " 'WEDNESDAY_AFTERNOON',\n",
       " 'WEDNESDAY_LUNCH']"
      ]
     },
     "execution_count": 118,
     "metadata": {},
     "output_type": "execute_result"
    }
   ],
   "source": [
    "unique_slots_dict = {}\n",
    "for col in new_cols[2:]:\n",
    "    if new_cols.split('_')"
   ]
  },
  {
   "cell_type": "code",
   "execution_count": null,
   "metadata": {},
   "outputs": [],
   "source": []
  },
  {
   "cell_type": "code",
   "execution_count": 49,
   "metadata": {},
   "outputs": [],
   "source": [
    "choices = choices[~choices.name.isnull()]"
   ]
  }
 ],
 "metadata": {
  "kernelspec": {
   "display_name": "Python 3",
   "language": "python",
   "name": "python3"
  },
  "language_info": {
   "codemirror_mode": {
    "name": "ipython",
    "version": 3
   },
   "file_extension": ".py",
   "mimetype": "text/x-python",
   "name": "python",
   "nbconvert_exporter": "python",
   "pygments_lexer": "ipython3",
   "version": "3.6.4"
  }
 },
 "nbformat": 4,
 "nbformat_minor": 2
}
