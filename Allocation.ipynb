{
 "cells": [
  {
   "cell_type": "code",
   "execution_count": 2,
   "metadata": {},
   "outputs": [],
   "source": [
    "import pandas as pd\n",
    "import numpy as np\n",
    "import re\n",
    "from multiprocessing import Pool\n",
    "import functools\n",
    "\n",
    "data_path = 'Data/'"
   ]
  },
  {
   "cell_type": "markdown",
   "metadata": {},
   "source": [
    "### Loading in test data\n",
    "load data\n",
    "organise info\n",
    "clean up columns"
   ]
  },
  {
   "cell_type": "code",
   "execution_count": 3,
   "metadata": {},
   "outputs": [],
   "source": [
    "choices = pd.read_csv(data_path + 'responses.csv')"
   ]
  },
  {
   "cell_type": "code",
   "execution_count": 4,
   "metadata": {},
   "outputs": [],
   "source": [
    "agenda = [re.findall(r'\\[([^\\]]+)', col) for col in choices.columns[2:]]"
   ]
  },
  {
   "cell_type": "code",
   "execution_count": 5,
   "metadata": {},
   "outputs": [],
   "source": [
    "new_cols = ['timestamp','name'] + [re.sub(\"[\\(\\[].*?[\\)\\]]\", \"\", co[1].split('[')[0].strip()).strip().replace(' ', '_') for co in agenda]"
   ]
  },
  {
   "cell_type": "code",
   "execution_count": 6,
   "metadata": {},
   "outputs": [],
   "source": [
    "choices.columns = new_cols"
   ]
  },
  {
   "cell_type": "code",
   "execution_count": 7,
   "metadata": {},
   "outputs": [],
   "source": [
    "schedule = [(co[0].replace(' ', '_'), re.sub(\"[\\(\\[].*?[\\)\\]]\", \"\", co[1].split('[')[0].strip()).strip().replace(' ', '_')) for co in agenda]"
   ]
  },
  {
   "cell_type": "code",
   "execution_count": 8,
   "metadata": {},
   "outputs": [],
   "source": [
    "schedule_dict = {}\n",
    "for pair in schedule:\n",
    "    if pair[0] not in schedule_dict.keys():\n",
    "        schedule_dict[pair[0]] = []\n",
    "    schedule_dict[pair[0]].append(pair[1])"
   ]
  },
  {
   "cell_type": "code",
   "execution_count": 9,
   "metadata": {},
   "outputs": [],
   "source": [
    "company_avai_dict_og = {re.sub(\"[\\(\\[].*?[\\)\\]]\", \"\", co[1].split('[')[0].strip()).strip().replace(' ', '_'):int(co[1].split('[')[1]) for co in agenda}\n",
    "company_avai_dict = company_avai_dict_og.copy()"
   ]
  },
  {
   "cell_type": "markdown",
   "metadata": {},
   "source": [
    "### Random allocation"
   ]
  },
  {
   "cell_type": "markdown",
   "metadata": {},
   "source": [
    "Create dictionary that matches time slots to choices"
   ]
  },
  {
   "cell_type": "code",
   "execution_count": 10,
   "metadata": {},
   "outputs": [],
   "source": [
    "choices = choices.drop(['timestamp'], axis = 1)"
   ]
  },
  {
   "cell_type": "markdown",
   "metadata": {},
   "source": [
    "Trying out allocation"
   ]
  },
  {
   "cell_type": "code",
   "execution_count": 11,
   "metadata": {},
   "outputs": [],
   "source": [
    "# dropping NA\n",
    "choices = choices[~choices.name.isnull()].reset_index(drop = True)"
   ]
  },
  {
   "cell_type": "code",
   "execution_count": 12,
   "metadata": {},
   "outputs": [],
   "source": [
    "def prize_draw(co, level, pool):\n",
    "    limit = company_avai_dict[co]\n",
    "    new_pool = list(set(choices.name[choices[co] == level])&set(pool))\n",
    "    if len(new_pool) > limit:\n",
    "        return(list(np.random.choice(new_pool, limit, replace=False)))\n",
    "    else:\n",
    "        return(new_pool)"
   ]
  },
  {
   "cell_type": "code",
   "execution_count": 13,
   "metadata": {},
   "outputs": [
    {
     "name": "stdout",
     "output_type": "stream",
     "text": [
      "------------new time slot-------------\n",
      "['Neuroprofiler', 'Regnosys', 'AQR']\n",
      "range(1, 4)\n",
      "Neuroprofiler 1\n",
      "there remains 30  to be distributed\n",
      "company exhausted\n",
      "Regnosys 1\n",
      "there remains 23  to be distributed\n",
      "AQR 1\n",
      "there remains 8  to be distributed\n",
      "company exhausted\n",
      "Neuroprofiler 2\n",
      "there remains 8  to be distributed\n",
      "company exhausted\n",
      "Regnosys 2\n",
      "there remains 8  to be distributed\n",
      "AQR 2\n",
      "there remains 8  to be distributed\n",
      "company exhausted\n",
      "Neuroprofiler 3\n",
      "there remains 8  to be distributed\n",
      "company exhausted\n",
      "Regnosys 3\n",
      "there remains 0  to be distributed\n",
      "company exhausted\n",
      "pool exhausted\n",
      "AQR 3\n",
      "there remains 0  to be distributed\n",
      "company exhausted\n",
      "pool exhausted\n",
      "------------new time slot-------------\n",
      "['Google_Deepmind', 'Blockchain', 'Pierre_Richemond', 'Stéphane_Leroy', 'King.com', 'BNP_Paribas_Data_Analytics', 'Circle']\n",
      "range(1, 8)\n",
      "Google_Deepmind 1\n",
      "there remains 37  to be distributed\n",
      "company exhausted\n",
      "Blockchain 1\n",
      "there remains 37  to be distributed\n",
      "Pierre_Richemond 1\n",
      "there remains 35  to be distributed\n",
      "Stéphane_Leroy 1\n",
      "there remains 35  to be distributed\n",
      "King.com 1\n",
      "there remains 31  to be distributed\n",
      "company exhausted\n",
      "BNP_Paribas_Data_Analytics 1\n",
      "there remains 29  to be distributed\n",
      "Circle 1\n",
      "there remains 29  to be distributed\n",
      "Google_Deepmind 2\n",
      "there remains 29  to be distributed\n",
      "company exhausted\n",
      "Blockchain 2\n",
      "there remains 23  to be distributed\n",
      "company exhausted\n",
      "Pierre_Richemond 2\n",
      "there remains 22  to be distributed\n",
      "company exhausted\n",
      "Stéphane_Leroy 2\n",
      "there remains 20  to be distributed\n",
      "King.com 2\n",
      "there remains 20  to be distributed\n",
      "company exhausted\n",
      "BNP_Paribas_Data_Analytics 2\n",
      "there remains 18  to be distributed\n",
      "company exhausted\n",
      "Circle 2\n",
      "there remains 12  to be distributed\n",
      "Google_Deepmind 3\n",
      "there remains 12  to be distributed\n",
      "company exhausted\n",
      "Blockchain 3\n",
      "there remains 12  to be distributed\n",
      "company exhausted\n",
      "Pierre_Richemond 3\n",
      "there remains 12  to be distributed\n",
      "company exhausted\n",
      "Stéphane_Leroy 3\n",
      "there remains 10  to be distributed\n",
      "company exhausted\n",
      "King.com 3\n",
      "there remains 10  to be distributed\n",
      "company exhausted\n",
      "BNP_Paribas_Data_Analytics 3\n",
      "there remains 10  to be distributed\n",
      "company exhausted\n",
      "Circle 3\n",
      "there remains 7  to be distributed\n",
      "Google_Deepmind 4\n",
      "there remains 7  to be distributed\n",
      "company exhausted\n",
      "Blockchain 4\n",
      "there remains 7  to be distributed\n",
      "company exhausted\n",
      "Pierre_Richemond 4\n",
      "there remains 7  to be distributed\n",
      "company exhausted\n",
      "Stéphane_Leroy 4\n",
      "there remains 7  to be distributed\n",
      "company exhausted\n",
      "King.com 4\n",
      "there remains 7  to be distributed\n",
      "company exhausted\n",
      "BNP_Paribas_Data_Analytics 4\n",
      "there remains 7  to be distributed\n",
      "company exhausted\n",
      "Circle 4\n",
      "there remains 7  to be distributed\n",
      "Google_Deepmind 5\n",
      "there remains 7  to be distributed\n",
      "company exhausted\n",
      "Blockchain 5\n",
      "there remains 7  to be distributed\n",
      "company exhausted\n",
      "Pierre_Richemond 5\n",
      "there remains 7  to be distributed\n",
      "company exhausted\n",
      "Stéphane_Leroy 5\n",
      "there remains 7  to be distributed\n",
      "company exhausted\n",
      "King.com 5\n",
      "there remains 7  to be distributed\n",
      "company exhausted\n",
      "BNP_Paribas_Data_Analytics 5\n",
      "there remains 7  to be distributed\n",
      "company exhausted\n",
      "Circle 5\n",
      "there remains 5  to be distributed\n",
      "Google_Deepmind 6\n",
      "there remains 5  to be distributed\n",
      "company exhausted\n",
      "Blockchain 6\n",
      "there remains 5  to be distributed\n",
      "company exhausted\n",
      "Pierre_Richemond 6\n",
      "there remains 5  to be distributed\n",
      "company exhausted\n",
      "Stéphane_Leroy 6\n",
      "there remains 5  to be distributed\n",
      "company exhausted\n",
      "King.com 6\n",
      "there remains 5  to be distributed\n",
      "company exhausted\n",
      "BNP_Paribas_Data_Analytics 6\n",
      "there remains 5  to be distributed\n",
      "company exhausted\n",
      "Circle 6\n",
      "there remains 4  to be distributed\n",
      "Google_Deepmind 7\n",
      "there remains 4  to be distributed\n",
      "company exhausted\n",
      "Blockchain 7\n",
      "there remains 4  to be distributed\n",
      "company exhausted\n",
      "Pierre_Richemond 7\n",
      "there remains 4  to be distributed\n",
      "company exhausted\n",
      "Stéphane_Leroy 7\n",
      "there remains 4  to be distributed\n",
      "company exhausted\n",
      "King.com 7\n",
      "there remains 4  to be distributed\n",
      "company exhausted\n",
      "BNP_Paribas_Data_Analytics 7\n",
      "there remains 4  to be distributed\n",
      "company exhausted\n",
      "Circle 7\n",
      "there remains 0  to be distributed\n",
      "company exhausted\n",
      "pool exhausted\n",
      "------------new time slot-------------\n",
      "['Vodafone_Lab', 'PwC', 'YOOBIC']\n",
      "range(1, 4)\n",
      "Vodafone_Lab 1\n",
      "there remains 30  to be distributed\n",
      "PwC 1\n",
      "there remains 21  to be distributed\n",
      "company exhausted\n",
      "YOOBIC 1\n",
      "there remains 9  to be distributed\n",
      "company exhausted\n",
      "Vodafone_Lab 2\n",
      "there remains 3  to be distributed\n",
      "PwC 2\n",
      "there remains 3  to be distributed\n",
      "company exhausted\n",
      "YOOBIC 2\n",
      "there remains 3  to be distributed\n",
      "company exhausted\n",
      "Vodafone_Lab 3\n",
      "there remains 0  to be distributed\n",
      "pool exhausted\n",
      "PwC 3\n",
      "there remains 0  to be distributed\n",
      "company exhausted\n",
      "pool exhausted\n",
      "YOOBIC 3\n",
      "there remains 0  to be distributed\n",
      "company exhausted\n",
      "pool exhausted\n",
      "------------new time slot-------------\n",
      "['CapGemini', 'McLauren_Applied_Technologies']\n",
      "range(1, 3)\n",
      "CapGemini 1\n",
      "there remains 40  to be distributed\n",
      "McLauren_Applied_Technologies 1\n",
      "there remains 20  to be distributed\n",
      "company exhausted\n",
      "CapGemini 2\n",
      "there remains 0  to be distributed\n",
      "company exhausted\n",
      "pool exhausted\n",
      "McLauren_Applied_Technologies 2\n",
      "there remains 0  to be distributed\n",
      "company exhausted\n",
      "pool exhausted\n",
      "------------new time slot-------------\n",
      "['Zopa', 'Founders_Factory']\n",
      "range(1, 3)\n",
      "Zopa 1\n",
      "there remains 30  to be distributed\n",
      "company exhausted\n",
      "Founders_Factory 1\n",
      "there remains 5  to be distributed\n",
      "Zopa 2\n",
      "there remains 5  to be distributed\n",
      "company exhausted\n",
      "Founders_Factory 2\n",
      "there remains 0  to be distributed\n",
      "company exhausted\n",
      "pool exhausted\n"
     ]
    }
   ],
   "source": [
    "company_avai_dict = company_avai_dict_og\n",
    "prize_draw_dict = {}\n",
    "for slot, companies in schedule_dict.items():\n",
    "    print('------------new time slot-------------')\n",
    "    print(companies)\n",
    "    pool = list(choices.name)\n",
    "    all_levels = range(1,len(companies)+1)\n",
    "    print(all_levels)\n",
    "    for level in all_levels:\n",
    "        for co in companies:\n",
    "            print(co, level)\n",
    "            if co not in prize_draw_dict.keys():\n",
    "                prize_draw_dict[co] = []\n",
    "            winners = prize_draw(co, level, pool)\n",
    "            company_avai_dict[co] = company_avai_dict[co] - len(winners)\n",
    "            prize_draw_dict[co].extend(winners)\n",
    "            pool = [person for person in pool if person not in winners]\n",
    "            print('there remains', len(pool), ' to be distributed')\n",
    "            if company_avai_dict[co] == 0:\n",
    "                print('company exhausted')\n",
    "            if len(pool) == 0:\n",
    "                print('pool exhausted')"
   ]
  },
  {
   "cell_type": "code",
   "execution_count": 14,
   "metadata": {},
   "outputs": [
    {
     "name": "stdout",
     "output_type": "stream",
     "text": [
      "for TUESDAY_AFTERNOON 45  have been allocated\n",
      "for WEDNESDAY_LUNCH 45  have been allocated\n",
      "for WEDNESDAY_AFTERNOON 45  have been allocated\n",
      "for THURSDAY_MORNING 45  have been allocated\n",
      "for THURSDAY_AFTERNOON 45  have been allocated\n"
     ]
    }
   ],
   "source": [
    "for slot, companies in schedule_dict.items():\n",
    "    total = sum([len(prize_draw_dict[company]) for company in companies])\n",
    "    print('for', slot, total, ' have been allocated')"
   ]
  },
  {
   "cell_type": "code",
   "execution_count": 15,
   "metadata": {},
   "outputs": [
    {
     "data": {
      "text/plain": [
       "45"
      ]
     },
     "execution_count": 15,
     "metadata": {},
     "output_type": "execute_result"
    }
   ],
   "source": [
    "len(choices)"
   ]
  },
  {
   "cell_type": "markdown",
   "metadata": {},
   "source": [
    "it seems as though we're good"
   ]
  },
  {
   "cell_type": "markdown",
   "metadata": {},
   "source": [
    "### Save as xlsx"
   ]
  },
  {
   "cell_type": "code",
   "execution_count": 16,
   "metadata": {},
   "outputs": [],
   "source": [
    "pd.DataFrame.from_dict(prize_draw_dict, orient='index').transpose().to_excel(data_path+'prize_draw_res.xlsx')"
   ]
  },
  {
   "cell_type": "code",
   "execution_count": null,
   "metadata": {},
   "outputs": [],
   "source": []
  }
 ],
 "metadata": {
  "kernelspec": {
   "display_name": "Python 3",
   "language": "python",
   "name": "python3"
  },
  "language_info": {
   "codemirror_mode": {
    "name": "ipython",
    "version": 3
   },
   "file_extension": ".py",
   "mimetype": "text/x-python",
   "name": "python",
   "nbconvert_exporter": "python",
   "pygments_lexer": "ipython3",
   "version": "3.6.4"
  }
 },
 "nbformat": 4,
 "nbformat_minor": 2
}
